{
 "cells": [
  {
   "cell_type": "code",
   "execution_count": 49,
   "metadata": {},
   "outputs": [],
   "source": [
    "import numpy as np\n",
    "import matplotlib.pyplot as plt\n",
    "import pandas as pd\n",
    "from sklearn.preprocessing import LabelEncoder, OneHotEncoder\n",
    "from sklearn.model_selection import train_test_split\n",
    "from sklearn.preprocessing import StandardScaler\n",
    "from sklearn.metrics import confusion_matrix\n",
    "from sklearn.metrics import accuracy_score\n",
    "# Importing the Keras libraries and packages\n",
    "import keras\n",
    "from keras.models import Sequential\n",
    "from keras.layers import Dense"
   ]
  },
  {
   "cell_type": "code",
   "execution_count": 50,
   "metadata": {},
   "outputs": [
    {
     "data": {
      "text/html": [
       "<div>\n",
       "<style scoped>\n",
       "    .dataframe tbody tr th:only-of-type {\n",
       "        vertical-align: middle;\n",
       "    }\n",
       "\n",
       "    .dataframe tbody tr th {\n",
       "        vertical-align: top;\n",
       "    }\n",
       "\n",
       "    .dataframe thead th {\n",
       "        text-align: right;\n",
       "    }\n",
       "</style>\n",
       "<table border=\"1\" class=\"dataframe\">\n",
       "  <thead>\n",
       "    <tr style=\"text-align: right;\">\n",
       "      <th></th>\n",
       "      <th>buying</th>\n",
       "      <th>maint</th>\n",
       "      <th>doors</th>\n",
       "      <th>persons</th>\n",
       "      <th>lug_boot</th>\n",
       "      <th>safety</th>\n",
       "      <th>class</th>\n",
       "    </tr>\n",
       "  </thead>\n",
       "  <tbody>\n",
       "    <tr>\n",
       "      <th>0</th>\n",
       "      <td>vhigh</td>\n",
       "      <td>vhigh</td>\n",
       "      <td>2</td>\n",
       "      <td>2</td>\n",
       "      <td>small</td>\n",
       "      <td>low</td>\n",
       "      <td>unacc</td>\n",
       "    </tr>\n",
       "    <tr>\n",
       "      <th>1</th>\n",
       "      <td>vhigh</td>\n",
       "      <td>vhigh</td>\n",
       "      <td>2</td>\n",
       "      <td>2</td>\n",
       "      <td>small</td>\n",
       "      <td>med</td>\n",
       "      <td>unacc</td>\n",
       "    </tr>\n",
       "    <tr>\n",
       "      <th>2</th>\n",
       "      <td>vhigh</td>\n",
       "      <td>vhigh</td>\n",
       "      <td>2</td>\n",
       "      <td>2</td>\n",
       "      <td>small</td>\n",
       "      <td>high</td>\n",
       "      <td>unacc</td>\n",
       "    </tr>\n",
       "    <tr>\n",
       "      <th>3</th>\n",
       "      <td>vhigh</td>\n",
       "      <td>vhigh</td>\n",
       "      <td>2</td>\n",
       "      <td>2</td>\n",
       "      <td>med</td>\n",
       "      <td>low</td>\n",
       "      <td>unacc</td>\n",
       "    </tr>\n",
       "    <tr>\n",
       "      <th>4</th>\n",
       "      <td>vhigh</td>\n",
       "      <td>vhigh</td>\n",
       "      <td>2</td>\n",
       "      <td>2</td>\n",
       "      <td>med</td>\n",
       "      <td>med</td>\n",
       "      <td>unacc</td>\n",
       "    </tr>\n",
       "  </tbody>\n",
       "</table>\n",
       "</div>"
      ],
      "text/plain": [
       "  buying  maint doors persons lug_boot safety  class\n",
       "0  vhigh  vhigh     2       2    small    low  unacc\n",
       "1  vhigh  vhigh     2       2    small    med  unacc\n",
       "2  vhigh  vhigh     2       2    small   high  unacc\n",
       "3  vhigh  vhigh     2       2      med    low  unacc\n",
       "4  vhigh  vhigh     2       2      med    med  unacc"
      ]
     },
     "execution_count": 50,
     "metadata": {},
     "output_type": "execute_result"
    }
   ],
   "source": [
    "# Importing the dataset using pandas\n",
    "dataset = pd.read_csv(r'C:\\Users\\asus\\Desktop\\RT4\\deep learning\\car.csv')\n",
    "dataset.head()"
   ]
  },
  {
   "cell_type": "code",
   "execution_count": 51,
   "metadata": {},
   "outputs": [],
   "source": [
    "# Create matrix of features and matrix of target variable.\n",
    "X = dataset.iloc[:, 0:6].values\n",
    "y = dataset.iloc[:, 6:7].values"
   ]
  },
  {
   "cell_type": "code",
   "execution_count": 52,
   "metadata": {},
   "outputs": [],
   "source": [
    "labelencoder_X_0 = LabelEncoder()\n",
    "X[:, 0] = labelencoder_X_0.fit_transform(X[:, 0])"
   ]
  },
  {
   "cell_type": "code",
   "execution_count": 53,
   "metadata": {},
   "outputs": [],
   "source": [
    "labelencoder_X_1 = LabelEncoder()\n",
    "X[:, 1] = labelencoder_X_1.fit_transform(X[:, 1])\n",
    "labelencoder_X_4 = LabelEncoder()\n",
    "X[:, 4] = labelencoder_X_4.fit_transform(X[:, 4])\n",
    "labelencoder_X_5 = LabelEncoder()\n",
    "X[:, 5] = labelencoder_X_5.fit_transform(X[:, 5])"
   ]
  },
  {
   "cell_type": "code",
   "execution_count": 54,
   "metadata": {},
   "outputs": [],
   "source": [
    "labelencoder_y = LabelEncoder()\n",
    "y[:,0] = labelencoder_y.fit_transform(y[:,0])"
   ]
  },
  {
   "cell_type": "code",
   "execution_count": 55,
   "metadata": {},
   "outputs": [
    {
     "data": {
      "text/plain": [
       "array([[2],\n",
       "       [2],\n",
       "       [2],\n",
       "       ..., \n",
       "       [2],\n",
       "       [1],\n",
       "       [3]], dtype=object)"
      ]
     },
     "execution_count": 55,
     "metadata": {},
     "output_type": "execute_result"
    }
   ],
   "source": [
    "y[:]"
   ]
  },
  {
   "cell_type": "code",
   "execution_count": 56,
   "metadata": {},
   "outputs": [],
   "source": [
    "labelencoder_X_2 = LabelEncoder()\n",
    "X[:, 2] = labelencoder_X_2.fit_transform(X[:, 2])\n",
    "labelencoder_X_3 = LabelEncoder()\n",
    "X[:, 3] = labelencoder_X_3.fit_transform(X[:, 3])"
   ]
  },
  {
   "cell_type": "code",
   "execution_count": 57,
   "metadata": {},
   "outputs": [
    {
     "name": "stdout",
     "output_type": "stream",
     "text": [
      "['high' 'low' 'med' 'med' 'low' 'high']\n"
     ]
    }
   ],
   "source": [
    "print(labelencoder_X_1.inverse_transform([0,1,2,2,1,0]))"
   ]
  },
  {
   "cell_type": "code",
   "execution_count": 58,
   "metadata": {},
   "outputs": [],
   "source": [
    "onehotencoder = OneHotEncoder(categorical_features = 'all')\n",
    "X = onehotencoder.fit_transform(X).toarray()\n"
   ]
  },
  {
   "cell_type": "code",
   "execution_count": 59,
   "metadata": {},
   "outputs": [],
   "source": [
    "onehotencoder1 = OneHotEncoder(categorical_features = 'all')\n",
    "y= onehotencoder1.fit_transform(y).toarray()"
   ]
  },
  {
   "cell_type": "code",
   "execution_count": 60,
   "metadata": {},
   "outputs": [
    {
     "data": {
      "text/plain": [
       "array([[ 0.,  0.,  1., ...,  0.,  1.,  0.],\n",
       "       [ 0.,  0.,  1., ...,  0.,  0.,  1.],\n",
       "       [ 0.,  0.,  1., ...,  1.,  0.,  0.],\n",
       "       ..., \n",
       "       [ 1.,  0.,  0., ...,  0.,  1.,  0.],\n",
       "       [ 1.,  0.,  0., ...,  0.,  0.,  1.],\n",
       "       [ 1.,  0.,  0., ...,  1.,  0.,  0.]])"
      ]
     },
     "execution_count": 60,
     "metadata": {},
     "output_type": "execute_result"
    }
   ],
   "source": [
    "X[:, 1:]"
   ]
  },
  {
   "cell_type": "code",
   "execution_count": null,
   "metadata": {},
   "outputs": [],
   "source": []
  },
  {
   "cell_type": "code",
   "execution_count": 61,
   "metadata": {},
   "outputs": [],
   "source": [
    "X_train, X_test, y_train, y_test = train_test_split(X, y, test_size = 0.2)"
   ]
  },
  {
   "cell_type": "code",
   "execution_count": 62,
   "metadata": {},
   "outputs": [
    {
     "data": {
      "text/plain": [
       "array([[ 1.,  0.,  0., ...,  0.,  1.,  0.],\n",
       "       [ 1.,  0.,  0., ...,  0.,  0.,  1.],\n",
       "       [ 0.,  0.,  1., ...,  0.,  1.,  0.],\n",
       "       ..., \n",
       "       [ 0.,  1.,  0., ...,  1.,  0.,  0.],\n",
       "       [ 0.,  0.,  1., ...,  0.,  0.,  1.],\n",
       "       [ 1.,  0.,  0., ...,  0.,  1.,  0.]])"
      ]
     },
     "execution_count": 62,
     "metadata": {},
     "output_type": "execute_result"
    }
   ],
   "source": [
    "X_train[:,:]"
   ]
  },
  {
   "cell_type": "code",
   "execution_count": 63,
   "metadata": {},
   "outputs": [],
   "source": [
    "sc = StandardScaler()\n",
    "X_train = sc.fit_transform(X_train)\n",
    "X_test = sc.transform(X_test)"
   ]
  },
  {
   "cell_type": "code",
   "execution_count": 64,
   "metadata": {},
   "outputs": [
    {
     "name": "stderr",
     "output_type": "stream",
     "text": [
      "C:\\Users\\asus\\Miniconda3\\envs\\DL\\lib\\site-packages\\ipykernel_launcher.py:4: UserWarning: Update your `Dense` call to the Keras 2 API: `Dense(units=12, kernel_initializer=\"uniform\", activation=\"relu\", input_dim=21)`\n",
      "  after removing the cwd from sys.path.\n",
      "C:\\Users\\asus\\Miniconda3\\envs\\DL\\lib\\site-packages\\ipykernel_launcher.py:5: UserWarning: Update your `Dense` call to the Keras 2 API: `Dense(units=12, kernel_initializer=\"uniform\", activation=\"relu\")`\n",
      "  \"\"\"\n",
      "C:\\Users\\asus\\Miniconda3\\envs\\DL\\lib\\site-packages\\ipykernel_launcher.py:7: UserWarning: Update your `Dense` call to the Keras 2 API: `Dense(units=4, kernel_initializer=\"uniform\", activation=\"softmax\")`\n",
      "  import sys\n"
     ]
    }
   ],
   "source": [
    "#Initializing Neural Network\n",
    "classifier = Sequential()\n",
    "# Adding the input layer and the first hidden layer\n",
    "classifier.add(Dense(output_dim =12, init = 'uniform', activation = 'relu', input_dim = 21))\n",
    "classifier.add(Dense(output_dim = 12, init = 'uniform', activation = 'relu'))\n",
    "# Adding the output layer\n",
    "classifier.add(Dense(output_dim = 4, init = 'uniform', activation = 'softmax'))"
   ]
  },
  {
   "cell_type": "code",
   "execution_count": 65,
   "metadata": {},
   "outputs": [],
   "source": [
    "classifier.compile(optimizer = 'adam', loss = 'categorical_crossentropy', metrics = ['accuracy'])"
   ]
  },
  {
   "cell_type": "code",
   "execution_count": 66,
   "metadata": {},
   "outputs": [
    {
     "name": "stdout",
     "output_type": "stream",
     "text": [
      "Epoch 1/100\n",
      "1382/1382 [==============================] - 2s 1ms/step - loss: 1.1237 - acc: 0.6896\n",
      "Epoch 2/100\n",
      "1382/1382 [==============================] - 1s 393us/step - loss: 0.5392 - acc: 0.6975\n",
      "Epoch 3/100\n",
      "1382/1382 [==============================] - 1s 384us/step - loss: 0.4461 - acc: 0.7402\n",
      "Epoch 4/100\n",
      "1382/1382 [==============================] - 1s 397us/step - loss: 0.3986 - acc: 0.7764\n",
      "Epoch 5/100\n",
      "1382/1382 [==============================] - 1s 396us/step - loss: 0.3469 - acc: 0.8582\n",
      "Epoch 6/100\n",
      "1382/1382 [==============================] - 1s 395us/step - loss: 0.2907 - acc: 0.9059\n",
      "Epoch 7/100\n",
      "1382/1382 [==============================] - 1s 397us/step - loss: 0.2437 - acc: 0.9088\n",
      "Epoch 8/100\n",
      "1382/1382 [==============================] - 1s 385us/step - loss: 0.2121 - acc: 0.9096\n",
      "Epoch 9/100\n",
      "1382/1382 [==============================] - 1s 396us/step - loss: 0.1929 - acc: 0.9088\n",
      "Epoch 10/100\n",
      "1382/1382 [==============================] - 1s 386us/step - loss: 0.1764 - acc: 0.9110\n",
      "Epoch 11/100\n",
      "1382/1382 [==============================] - 1s 395us/step - loss: 0.1653 - acc: 0.9132\n",
      "Epoch 12/100\n",
      "1382/1382 [==============================] - 1s 408us/step - loss: 0.1560 - acc: 0.9139\n",
      "Epoch 13/100\n",
      "1382/1382 [==============================] - 1s 434us/step - loss: 0.1493 - acc: 0.9168\n",
      "Epoch 14/100\n",
      "1382/1382 [==============================] - 1s 413us/step - loss: 0.1431 - acc: 0.9168\n",
      "Epoch 15/100\n",
      "1382/1382 [==============================] - 1s 407us/step - loss: 0.1352 - acc: 0.9168\n",
      "Epoch 16/100\n",
      "1382/1382 [==============================] - 1s 407us/step - loss: 0.1324 - acc: 0.9226\n",
      "Epoch 17/100\n",
      "1382/1382 [==============================] - 1s 408us/step - loss: 0.1276 - acc: 0.9551\n",
      "Epoch 18/100\n",
      "1382/1382 [==============================] - 1s 430us/step - loss: 0.1216 - acc: 0.9551\n",
      "Epoch 19/100\n",
      "1382/1382 [==============================] - 1s 407us/step - loss: 0.1169 - acc: 0.9580\n",
      "Epoch 20/100\n",
      "1382/1382 [==============================] - 1s 396us/step - loss: 0.1139 - acc: 0.9559\n",
      "Epoch 21/100\n",
      "1382/1382 [==============================] - 1s 396us/step - loss: 0.1108 - acc: 0.9573\n",
      "Epoch 22/100\n",
      "1382/1382 [==============================] - 1s 406us/step - loss: 0.1073 - acc: 0.9580\n",
      "Epoch 23/100\n",
      "1382/1382 [==============================] - 1s 396us/step - loss: 0.1040 - acc: 0.9595\n",
      "Epoch 24/100\n",
      "1382/1382 [==============================] - 1s 408us/step - loss: 0.1015 - acc: 0.9588\n",
      "Epoch 25/100\n",
      "1382/1382 [==============================] - 1s 407us/step - loss: 0.0992 - acc: 0.9595\n",
      "Epoch 26/100\n",
      "1382/1382 [==============================] - 1s 407us/step - loss: 0.0964 - acc: 0.9595\n",
      "Epoch 27/100\n",
      "1382/1382 [==============================] - 1s 385us/step - loss: 0.0961 - acc: 0.9580\n",
      "Epoch 28/100\n",
      "1382/1382 [==============================] - 1s 409us/step - loss: 0.0923 - acc: 0.9602\n",
      "Epoch 29/100\n",
      "1382/1382 [==============================] - 1s 419us/step - loss: 0.0917 - acc: 0.9588\n",
      "Epoch 30/100\n",
      "1382/1382 [==============================] - 1s 418us/step - loss: 0.0893 - acc: 0.9602\n",
      "Epoch 31/100\n",
      "1382/1382 [==============================] - 1s 407us/step - loss: 0.0874 - acc: 0.9602\n",
      "Epoch 32/100\n",
      "1382/1382 [==============================] - 1s 394us/step - loss: 0.0863 - acc: 0.9602\n",
      "Epoch 33/100\n",
      "1382/1382 [==============================] - 1s 395us/step - loss: 0.0842 - acc: 0.9602\n",
      "Epoch 34/100\n",
      "1382/1382 [==============================] - 1s 431us/step - loss: 0.0826 - acc: 0.9602\n",
      "Epoch 35/100\n",
      "1382/1382 [==============================] - 1s 419us/step - loss: 0.0812 - acc: 0.9602\n",
      "Epoch 36/100\n",
      "1382/1382 [==============================] - 1s 396us/step - loss: 0.0796 - acc: 0.9602\n",
      "Epoch 37/100\n",
      "1382/1382 [==============================] - 1s 397us/step - loss: 0.0783 - acc: 0.9595\n",
      "Epoch 38/100\n",
      "1382/1382 [==============================] - 1s 406us/step - loss: 0.0787 - acc: 0.9609\n",
      "Epoch 39/100\n",
      "1382/1382 [==============================] - 1s 408us/step - loss: 0.0761 - acc: 0.9616\n",
      "Epoch 40/100\n",
      "1382/1382 [==============================] - 1s 408us/step - loss: 0.0748 - acc: 0.9609\n",
      "Epoch 41/100\n",
      "1382/1382 [==============================] - 1s 393us/step - loss: 0.0734 - acc: 0.9616\n",
      "Epoch 42/100\n",
      "1382/1382 [==============================] - 1s 397us/step - loss: 0.0722 - acc: 0.9624\n",
      "Epoch 43/100\n",
      "1382/1382 [==============================] - 1s 406us/step - loss: 0.0715 - acc: 0.9624\n",
      "Epoch 44/100\n",
      "1382/1382 [==============================] - 1s 408us/step - loss: 0.0705 - acc: 0.9624\n",
      "Epoch 45/100\n",
      "1382/1382 [==============================] - 1s 406us/step - loss: 0.0695 - acc: 0.9624\n",
      "Epoch 46/100\n",
      "1382/1382 [==============================] - 1s 408us/step - loss: 0.0691 - acc: 0.9624\n",
      "Epoch 47/100\n",
      "1382/1382 [==============================] - 1s 407us/step - loss: 0.0683 - acc: 0.9624\n",
      "Epoch 48/100\n",
      "1382/1382 [==============================] - 1s 407us/step - loss: 0.0678 - acc: 0.9624\n",
      "Epoch 49/100\n",
      "1382/1382 [==============================] - 1s 407us/step - loss: 0.0670 - acc: 0.9624\n",
      "Epoch 50/100\n",
      "1382/1382 [==============================] - 1s 453us/step - loss: 0.0661 - acc: 0.9624\n",
      "Epoch 51/100\n",
      "1382/1382 [==============================] - 1s 407us/step - loss: 0.0654 - acc: 0.9624\n",
      "Epoch 52/100\n",
      "1382/1382 [==============================] - 1s 407us/step - loss: 0.0647 - acc: 0.9624\n",
      "Epoch 53/100\n",
      "1382/1382 [==============================] - 1s 419us/step - loss: 0.0641 - acc: 0.9624\n",
      "Epoch 54/100\n",
      "1382/1382 [==============================] - 1s 396us/step - loss: 0.0641 - acc: 0.9624\n",
      "Epoch 55/100\n",
      "1382/1382 [==============================] - 1s 408us/step - loss: 0.0695 - acc: 0.9602\n",
      "Epoch 56/100\n",
      "1382/1382 [==============================] - 1s 471us/step - loss: 0.0646 - acc: 0.9616\n",
      "Epoch 57/100\n",
      "1382/1382 [==============================] - 1s 465us/step - loss: 0.0620 - acc: 0.9624\n",
      "Epoch 58/100\n",
      "1382/1382 [==============================] - 1s 465us/step - loss: 0.0614 - acc: 0.9624\n",
      "Epoch 59/100\n",
      "1382/1382 [==============================] - 1s 509us/step - loss: 0.0610 - acc: 0.9624\n",
      "Epoch 60/100\n",
      "1382/1382 [==============================] - 1s 492us/step - loss: 0.0604 - acc: 0.9624\n",
      "Epoch 61/100\n",
      "1382/1382 [==============================] - 1s 490us/step - loss: 0.0591 - acc: 0.9624\n",
      "Epoch 62/100\n",
      "1382/1382 [==============================] - 1s 425us/step - loss: 0.0585 - acc: 0.9624\n",
      "Epoch 63/100\n",
      "1382/1382 [==============================] - 1s 407us/step - loss: 0.0574 - acc: 0.9624\n",
      "Epoch 64/100\n",
      "1382/1382 [==============================] - 1s 441us/step - loss: 0.0571 - acc: 0.9653\n",
      "Epoch 65/100\n",
      "1382/1382 [==============================] - 1s 431us/step - loss: 0.0559 - acc: 0.9638\n",
      "Epoch 66/100\n",
      "1382/1382 [==============================] - 1s 447us/step - loss: 0.0543 - acc: 0.9812\n",
      "Epoch 67/100\n",
      "1382/1382 [==============================] - 1s 454us/step - loss: 0.0531 - acc: 0.9790\n",
      "Epoch 68/100\n",
      "1382/1382 [==============================] - 1s 474us/step - loss: 0.0513 - acc: 0.9834\n",
      "Epoch 69/100\n",
      "1382/1382 [==============================] - 1s 439us/step - loss: 0.0502 - acc: 0.9834\n",
      "Epoch 70/100\n",
      "1382/1382 [==============================] - 1s 419us/step - loss: 0.0489 - acc: 0.9834\n",
      "Epoch 71/100\n",
      "1382/1382 [==============================] - 1s 408us/step - loss: 0.0474 - acc: 0.9848\n",
      "Epoch 72/100\n",
      "1382/1382 [==============================] - 1s 419us/step - loss: 0.0458 - acc: 0.9863\n",
      "Epoch 73/100\n",
      "1382/1382 [==============================] - 1s 406us/step - loss: 0.0443 - acc: 0.9884\n",
      "Epoch 74/100\n",
      "1382/1382 [==============================] - 1s 408us/step - loss: 0.0422 - acc: 0.9884\n",
      "Epoch 75/100\n",
      "1382/1382 [==============================] - 1s 430us/step - loss: 0.0402 - acc: 0.9913\n",
      "Epoch 76/100\n",
      "1382/1382 [==============================] - 1s 453us/step - loss: 0.0393 - acc: 0.9920\n",
      "Epoch 77/100\n",
      "1382/1382 [==============================] - 1s 429us/step - loss: 0.0375 - acc: 0.9942\n",
      "Epoch 78/100\n",
      "1382/1382 [==============================] - 1s 452us/step - loss: 0.0351 - acc: 0.9949\n",
      "Epoch 79/100\n",
      "1382/1382 [==============================] - 1s 419us/step - loss: 0.0327 - acc: 0.9942\n",
      "Epoch 80/100\n",
      "1382/1382 [==============================] - 1s 430us/step - loss: 0.0322 - acc: 0.9942\n",
      "Epoch 81/100\n",
      "1382/1382 [==============================] - 1s 453us/step - loss: 0.0303 - acc: 0.9957\n",
      "Epoch 82/100\n"
     ]
    },
    {
     "name": "stdout",
     "output_type": "stream",
     "text": [
      "1382/1382 [==============================] - 1s 419us/step - loss: 0.0270 - acc: 0.9978\n",
      "Epoch 83/100\n",
      "1382/1382 [==============================] - 1s 429us/step - loss: 0.0255 - acc: 0.9971\n",
      "Epoch 84/100\n",
      "1382/1382 [==============================] - 1s 441us/step - loss: 0.0245 - acc: 0.9971\n",
      "Epoch 85/100\n",
      "1382/1382 [==============================] - 1s 408us/step - loss: 0.0282 - acc: 0.9957\n",
      "Epoch 86/100\n",
      "1382/1382 [==============================] - 1s 406us/step - loss: 0.0250 - acc: 0.9964\n",
      "Epoch 87/100\n",
      "1382/1382 [==============================] - 1s 385us/step - loss: 0.0209 - acc: 0.9978\n",
      "Epoch 88/100\n",
      "1382/1382 [==============================] - 1s 373us/step - loss: 0.0200 - acc: 0.9978\n",
      "Epoch 89/100\n",
      "1382/1382 [==============================] - 1s 385us/step - loss: 0.0192 - acc: 0.9978\n",
      "Epoch 90/100\n",
      "1382/1382 [==============================] - 1s 396us/step - loss: 0.0184 - acc: 0.9978\n",
      "Epoch 91/100\n",
      "1382/1382 [==============================] - 1s 407us/step - loss: 0.0177 - acc: 0.9978\n",
      "Epoch 92/100\n",
      "1382/1382 [==============================] - 1s 430us/step - loss: 0.0170 - acc: 0.9978\n",
      "Epoch 93/100\n",
      "1382/1382 [==============================] - 1s 430us/step - loss: 0.0165 - acc: 0.9978\n",
      "Epoch 94/100\n",
      "1382/1382 [==============================] - 1s 408us/step - loss: 0.0159 - acc: 0.9978\n",
      "Epoch 95/100\n",
      "1382/1382 [==============================] - 1s 384us/step - loss: 0.0154 - acc: 0.9978\n",
      "Epoch 96/100\n",
      "1382/1382 [==============================] - 1s 431us/step - loss: 0.0151 - acc: 0.9978\n",
      "Epoch 97/100\n",
      "1382/1382 [==============================] - 1s 418us/step - loss: 0.0144 - acc: 0.9978\n",
      "Epoch 98/100\n",
      "1382/1382 [==============================] - 1s 430us/step - loss: 0.0139 - acc: 0.9978\n",
      "Epoch 99/100\n",
      "1382/1382 [==============================] - 1s 407us/step - loss: 0.0137 - acc: 0.9978\n",
      "Epoch 100/100\n",
      "1382/1382 [==============================] - 1s 444us/step - loss: 0.0132 - acc: 0.9978\n"
     ]
    },
    {
     "data": {
      "text/plain": [
       "<keras.callbacks.History at 0x199784562e8>"
      ]
     },
     "execution_count": 66,
     "metadata": {},
     "output_type": "execute_result"
    }
   ],
   "source": [
    "classifier.fit(X_train, y_train, batch_size = 10, epochs = 100)"
   ]
  },
  {
   "cell_type": "code",
   "execution_count": 67,
   "metadata": {},
   "outputs": [
    {
     "name": "stdout",
     "output_type": "stream",
     "text": [
      "[[False False  True False]\n",
      " [ True False False False]\n",
      " [False False  True False]\n",
      " ..., \n",
      " [False False False  True]\n",
      " [False False  True False]\n",
      " [False False  True False]]\n"
     ]
    }
   ],
   "source": [
    "y_pred = classifier.predict(X_test)\n",
    "y_pred = (y_pred > 0.5)\n",
    "print(y_pred)"
   ]
  },
  {
   "cell_type": "code",
   "execution_count": 68,
   "metadata": {},
   "outputs": [
    {
     "name": "stdout",
     "output_type": "stream",
     "text": [
      "0.985549132948\n"
     ]
    }
   ],
   "source": [
    "cm = accuracy_score(y_test, y_pred)\n",
    "print(cm)"
   ]
  },
  {
   "cell_type": "code",
   "execution_count": 69,
   "metadata": {},
   "outputs": [
    {
     "name": "stdout",
     "output_type": "stream",
     "text": [
      "The accuracy of our model is 98.6 %\n"
     ]
    }
   ],
   "source": [
    "# Accuracy of our model\n",
    "accuracy =cm*100\n",
    "print(\"The accuracy of our model is %2.1f %%\" % accuracy)"
   ]
  },
  {
   "cell_type": "code",
   "execution_count": null,
   "metadata": {},
   "outputs": [],
   "source": []
  }
 ],
 "metadata": {
  "kernelspec": {
   "display_name": "Python 3",
   "language": "python",
   "name": "python3"
  },
  "language_info": {
   "codemirror_mode": {
    "name": "ipython",
    "version": 3
   },
   "file_extension": ".py",
   "mimetype": "text/x-python",
   "name": "python",
   "nbconvert_exporter": "python",
   "pygments_lexer": "ipython3",
   "version": "3.5.4"
  }
 },
 "nbformat": 4,
 "nbformat_minor": 2
}
